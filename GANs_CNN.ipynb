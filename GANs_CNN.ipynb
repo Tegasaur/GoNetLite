{
 "metadata": {
  "language_info": {
   "codemirror_mode": {
    "name": "ipython",
    "version": 3
   },
   "file_extension": ".py",
   "mimetype": "text/x-python",
   "name": "python",
   "nbconvert_exporter": "python",
   "pygments_lexer": "ipython3",
   "version": "3.8.0"
  },
  "orig_nbformat": 2,
  "kernelspec": {
   "name": "python380jvsc74a57bd0ce0c727c0923861906b0fd7103761b05c39ba96d05f0b864509d71ba978b2080",
   "display_name": "Python 3.8.0 64-bit ('tf2.4': conda)"
  }
 },
 "nbformat": 4,
 "nbformat_minor": 2,
 "cells": [
  {
   "cell_type": "code",
   "execution_count": null,
   "metadata": {},
   "outputs": [],
   "source": [
    "import tensorflow as tf\n",
    "from keras.models import Sequential\n",
    "import keras.layers\n",
    "from keras.optimizers import Adam,RMSprop\n",
    "import numpy as np\n",
    "import tensorflow.keras.backend as K\n",
    "import matplotlib.pyplot as plt\n",
    "import glob\n",
    "from skimage import color\n",
    "from skimage import io\n",
    "from skimage.filters import threshold_otsu\n",
    "from keras.models import model_from_yaml\n",
    "from skimage.transform import resize\n",
    "import keras\n",
    "from sklearn.metrics import confusion_matrix, precision_score, recall_score, f1_score, roc_curve"
   ]
  },
  {
   "cell_type": "code",
   "execution_count": null,
   "metadata": {},
   "outputs": [],
   "source": [
    "# Load encoder\n",
    "yaml_file = open('encoderc.yaml', 'r') #enter path to encoder yaml file\n",
    "loaded_model_yaml = yaml_file.read()\n",
    "yaml_file.close()\n",
    "loaded_model = model_from_yaml(loaded_model_yaml)\n",
    "# load weights into new model\n",
    "loaded_model.load_weights(\"encoderc.h5\") #enter path to encoder h5 file\n",
    "print(\"Loaded model from disk\")"
   ]
  },
  {
   "cell_type": "code",
   "execution_count": null,
   "metadata": {},
   "outputs": [],
   "source": [
    "# Compile training set data\n",
    "X_train_d = np.zeros((800, 32, 32, 6))\n",
    "Y_train_d = np.zeros((800, 1))\n",
    "for i in range(1, 401):\n",
    "    image = f\"data_train_annotation/negative_L/img_negative_L_{i}.jpg\" #Pass negative training data\n",
    "    img = resize(io.imread(image), (32,32))\n",
    "    x1 = loaded_model(img.reshape(1,32,32,3))\n",
    "    X_train_d[(i-1) * 2, :, :, 0:3] = img\n",
    "    X_train_d[(i-1) * 2, :, :, 3:6] = x1[0]\n",
    "\n",
    "\n",
    "    image = f\"data_train_annotation/positive_L/img_positive_L_{i}.jpg\" #Pass positive training data\n",
    "    img = resize(io.imread(image), (32,32))\n",
    "    x1 = loaded_model(img.reshape(1,32,32,3))\n",
    "    X_train_d[((i-1) * 2) + 1, :, :, 0:3] = img\n",
    "    X_train_d[((i-1) * 2) + 1, :, :, 3:6] = x1[0]\n",
    "    Y_train_d[((i-1) * 2) + 1] = 1\n"
   ]
  },
  {
   "cell_type": "code",
   "execution_count": null,
   "metadata": {},
   "outputs": [],
   "source": [
    "#Compile validation set data\n",
    "X_vali_d = np.zeros((800, 32, 32, 6))\n",
    "Y_vali_d = np.zeros((800, 1))\n",
    "for i in range(1, 401):\n",
    "    image = f\"data_vali_annotation/negative_L/img_negative_L_{i}.jpg\" #Pass negative validation data\n",
    "    img = resize(io.imread(image), (32,32))\n",
    "    x1 = loaded_model(img.reshape(1,32,32,3))\n",
    "    X_vali_d[(i-1) * 2, :, :, 0:3] = img\n",
    "    X_vali_d[(i-1) * 2, :, :, 3:6] = x1[0]\n",
    "\n",
    "\n",
    "    image = f\"data_vali_annotation/positive_L/img_positive_L_{i}.jpg\" #Pass positive validation data\n",
    "    img = resize(io.imread(image), (32,32))\n",
    "    x1 = loaded_model(img.reshape(1,32,32,3))\n",
    "    X_vali_d[((i-1) * 2) + 1, :, :, 0:3] = img\n",
    "    X_vali_d[((i-1) * 2) + 1, :, :, 3:6] = x1[0]\n",
    "    Y_vali_d[((i-1) * 2) + 1] = 1\n"
   ]
  },
  {
   "cell_type": "code",
   "execution_count": null,
   "metadata": {},
   "outputs": [],
   "source": [
    "# Compile test set data\n",
    "X_test_d = np.zeros((800, 32, 32, 6))\n",
    "Y_test_d = np.zeros((800, 1))\n",
    "for i in range(1, 401):\n",
    "    image = f\"data_test_annotation/negative_L/img_negative_L_{i}.jpg\" #Pass negative testing data\n",
    "    img = resize(io.imread(image), (32,32))\n",
    "    x1 = loaded_model(img.reshape(1,32,32,3))\n",
    "    X_test_d[(i-1) * 2, :, :, 0:3] = img\n",
    "    X_test_d[(i-1) * 2, :, :, 3:6] = x1[0]\n",
    "\n",
    "\n",
    "    image = f\"data_test_annotation/positive_L/img_positive_L_{i}.jpg\" #Pass positive testing data\n",
    "    img = resize(io.imread(image), (32,32))\n",
    "    x1 = loaded_model(img.reshape(1,32,32,3))\n",
    "    X_test_d[((i-1) * 2) + 1, :, :, 0:3] = img\n",
    "    X_test_d[((i-1) * 2) + 1, :, :, 3:6] = x1[0]\n",
    "    Y_test_d[((i-1) * 2) + 1] = 1\n"
   ]
  },
  {
   "cell_type": "code",
   "execution_count": null,
   "metadata": {},
   "outputs": [],
   "source": [
    "# Combine training and validation set data\n",
    "X_train_f = np.vstack((X_train_d, X_vali_d))\n",
    "Y_train_f = np.vstack((Y_train_d, Y_vali_d))"
   ]
  },
  {
   "cell_type": "code",
   "execution_count": null,
   "metadata": {},
   "outputs": [],
   "source": [
    "# Classifier network\n",
    "input_shape = (32, 32, 6)\n",
    "discriminator = keras.Sequential(\n",
    "    [\n",
    "        keras.Input(shape=input_shape),\n",
    "        keras.layers.Conv2D(128, kernel_size=(3, 3), activation=\"relu\"),\n",
    "        keras.layers.Conv2D(64, kernel_size=(3, 3), activation=\"relu\"),\n",
    "        keras.layers.Conv2D(32, kernel_size=(3, 3), activation=\"relu\"),\n",
    "        keras.layers.MaxPooling2D(pool_size=(3, 3)),\n",
    "        keras.layers.Conv2D(16, kernel_size=(2, 2), activation=\"relu\"),\n",
    "        keras.layers.MaxPooling2D(pool_size=(2, 2)),\n",
    "        keras.layers.Flatten(),\n",
    "        keras.layers.Dropout(0.8),\n",
    "        keras.layers.Dense(8, activation=\"relu\"),\n",
    "        keras.layers.Dense(1, activation=\"sigmoid\"),\n",
    "    ]\n",
    ")\n",
    "discriminator.summary()\n"
   ]
  },
  {
   "cell_type": "code",
   "execution_count": null,
   "metadata": {
    "tags": []
   },
   "outputs": [],
   "source": [
    "# Building and training of classifier\n",
    "discriminator.compile(loss=\"binary_crossentropy\", optimizer=Adam(0.0003, 0.5), metrics=[\"accuracy\"])\n",
    "discriminator.fit(X_train_f, Y_train_f, epochs = 100, batch_size = 64)"
   ]
  },
  {
   "cell_type": "code",
   "execution_count": null,
   "metadata": {},
   "outputs": [],
   "source": [
    "acc = discriminator.evaluate(X_test_d, Y_test_d)\n",
    "print(acc)"
   ]
  },
  {
   "cell_type": "code",
   "execution_count": null,
   "metadata": {},
   "outputs": [],
   "source": [
    "index = 21\n",
    "x = discriminator.predict(X_test_d[index].reshape(1,32,32, 6))\n",
    "print(x)"
   ]
  },
  {
   "source": [
    "METRICS"
   ],
   "cell_type": "markdown",
   "metadata": {}
  },
  {
   "cell_type": "code",
   "execution_count": null,
   "metadata": {},
   "outputs": [],
   "source": [
    "discriminator.summary()"
   ]
  },
  {
   "cell_type": "code",
   "execution_count": null,
   "metadata": {},
   "outputs": [],
   "source": [
    "Y_pred_d = np.around(discriminator.predict(X_test_d))"
   ]
  },
  {
   "cell_type": "code",
   "execution_count": null,
   "metadata": {},
   "outputs": [],
   "source": [
    "# Confusion Matrix\n",
    "cm = confusion_matrix(Y_test_d, Y_pred_d)\n",
    "print(cm)"
   ]
  },
  {
   "cell_type": "code",
   "execution_count": null,
   "metadata": {},
   "outputs": [],
   "source": [
    "# Precision\n",
    "pr = precision_score(Y_test_d, Y_pred_d)\n",
    "print(pr)"
   ]
  },
  {
   "cell_type": "code",
   "execution_count": null,
   "metadata": {},
   "outputs": [],
   "source": [
    "# Recall\n",
    "pr = recall_score(Y_test_d, Y_pred_d)\n",
    "print(pr)"
   ]
  },
  {
   "cell_type": "code",
   "execution_count": null,
   "metadata": {},
   "outputs": [],
   "source": [
    "# F1 Score \n",
    "f1 = f1_score(Y_test_d, Y_pred_d)\n",
    "print(f1)"
   ]
  },
  {
   "cell_type": "code",
   "execution_count": null,
   "metadata": {},
   "outputs": [],
   "source": [
    "fpr, tpr, thresholds= roc_curve(Y_test_d, Y_pred_d)"
   ]
  },
  {
   "cell_type": "code",
   "execution_count": null,
   "metadata": {},
   "outputs": [],
   "source": [
    "plt.plot(fpr, tpr)\n",
    "plt.xlabel('False positive rate')\n",
    "plt.ylabel('True positive rate')\n",
    "plt.title('ROC curve')\n",
    "plt.legend(loc='best')"
   ]
  },
  {
   "cell_type": "code",
   "execution_count": null,
   "metadata": {},
   "outputs": [],
   "source": [
    "# model_yaml = discriminator.to_yaml()\n",
    "# with open(\"cnn_model2.yaml\", \"w\") as yaml_file:\n",
    "#     yaml_file.write(model_yaml)\n",
    "# # serialize weights to HDF5\n",
    "# discriminator.save_weights(\"cnn_model2.h5\")\n",
    "# print(\"Saved model to disk\")"
   ]
  },
  {
   "cell_type": "code",
   "execution_count": null,
   "metadata": {},
   "outputs": [],
   "source": []
  }
 ]
}