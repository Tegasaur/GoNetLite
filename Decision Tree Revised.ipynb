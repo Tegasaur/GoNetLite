{
 "cells": [
  {
   "cell_type": "code",
   "execution_count": 62,
   "id": "41be3773",
   "metadata": {},
   "outputs": [],
   "source": [
    "from sklearn import tree\n",
    "import tensorflow as tf\n",
    "from keras.models import Sequential\n",
    "import keras.layers\n",
    "from keras.optimizers import Adam,RMSprop\n",
    "import numpy as np\n",
    "import tensorflow.keras.backend as K\n",
    "import matplotlib.pyplot as plt\n",
    "import glob\n",
    "from skimage import color\n",
    "from skimage import io\n",
    "from skimage.filters import threshold_otsu\n",
    "from keras.models import model_from_yaml\n",
    "import keras\n",
    "from joblib import dump, load\n",
    "from skimage.transform import resize\n",
    "from sklearn.decomposition import PCA\n",
    "from sklearn.metrics import confusion_matrix, precision_score, recall_score, f1_score, roc_curve\n",
    "from sklearn.ensemble import RandomForestClassifier"
   ]
  },
  {
   "cell_type": "code",
   "execution_count": 50,
   "id": "6a5d2832",
   "metadata": {},
   "outputs": [
    {
     "name": "stdout",
     "output_type": "stream",
     "text": [
      "Loaded model from disk\n"
     ]
    }
   ],
   "source": [
    "yaml_file = open('encoderc.yaml', 'r')\n",
    "loaded_model_yaml = yaml_file.read()\n",
    "yaml_file.close()\n",
    "loaded_model = model_from_yaml(loaded_model_yaml)\n",
    "# load weights into new model\n",
    "loaded_model.load_weights(\"encoderc.h5\")\n",
    "print(\"Loaded model from disk\")"
   ]
  },
  {
   "cell_type": "code",
   "execution_count": 51,
   "id": "37fdff29",
   "metadata": {},
   "outputs": [],
   "source": [
    "X_train_d = np.zeros((800, 32, 32, 6))\n",
    "Y_train_d = np.zeros((800, 1))\n",
    "for i in range(1, 401):\n",
    "    image = f\"data_train_annotation/negative_L/img_negative_L_{i}.jpg\"\n",
    "    img = resize(io.imread(image), (32,32))\n",
    "    x1 = loaded_model(img.reshape(1,32,32,3))\n",
    "    X_train_d[(i-1) * 2, :, :, 0:3] = img\n",
    "    X_train_d[(i-1) * 2, :, :, 3:6] = x1[0]\n",
    "\n",
    "\n",
    "    image = f\"data_train_annotation/positive_L/img_positive_L_{i}.jpg\"\n",
    "    img = resize(io.imread(image), (32,32))\n",
    "    x1 = loaded_model(img.reshape(1,32,32,3))\n",
    "    X_train_d[((i-1) * 2) + 1, :, :, 0:3] = img\n",
    "    X_train_d[((i-1) * 2) + 1, :, :, 3:6] = x1[0]\n",
    "    Y_train_d[((i-1) * 2) + 1] = 1"
   ]
  },
  {
   "cell_type": "code",
   "execution_count": 52,
   "id": "3adb2d95",
   "metadata": {},
   "outputs": [],
   "source": [
    "X_vali_d = np.zeros((800, 32, 32, 6))\n",
    "Y_vali_d = np.zeros((800, 1))\n",
    "for i in range(1, 401):\n",
    "    image = f\"data_vali_annotation/negative_L/img_negative_L_{i}.jpg\"\n",
    "    img = resize(io.imread(image), (32,32))\n",
    "    x1 = loaded_model(img.reshape(1,32,32,3))\n",
    "    X_vali_d[(i-1) * 2, :, :, 0:3] = img\n",
    "    X_vali_d[(i-1) * 2, :, :, 3:6] = x1[0]\n",
    "\n",
    "\n",
    "    image = f\"data_vali_annotation/positive_L/img_positive_L_{i}.jpg\"\n",
    "    img = resize(io.imread(image), (32,32))\n",
    "    x1 = loaded_model(img.reshape(1,32,32,3))\n",
    "    X_vali_d[((i-1) * 2) + 1, :, :, 0:3] = img\n",
    "    X_vali_d[((i-1) * 2) + 1, :, :, 3:6] = x1[0]\n",
    "    Y_vali_d[((i-1) * 2) + 1] = 1"
   ]
  },
  {
   "cell_type": "code",
   "execution_count": 53,
   "id": "8f821a76",
   "metadata": {},
   "outputs": [],
   "source": [
    "X_test_d = np.zeros((800, 32, 32, 6))\n",
    "Y_test_d = np.zeros((800, 1))\n",
    "for i in range(1, 401):\n",
    "    image = f\"data_test_annotation/negative_L/img_negative_L_{i}.jpg\"\n",
    "    img = resize(io.imread(image), (32,32))\n",
    "    x1 = loaded_model(img.reshape(1,32,32,3))\n",
    "    X_test_d[(i-1) * 2, :, :, 0:3] = img\n",
    "    X_test_d[(i-1) * 2, :, :, 3:6] = x1[0]\n",
    "\n",
    "\n",
    "    image = f\"data_test_annotation/positive_L/img_positive_L_{i}.jpg\"\n",
    "    img = resize(io.imread(image), (32,32))\n",
    "    x1 = loaded_model(img.reshape(1,32,32,3))\n",
    "    X_test_d[((i-1) * 2) + 1, :, :, 0:3] = img\n",
    "    X_test_d[((i-1) * 2) + 1, :, :, 3:6] = x1[0]\n",
    "    Y_test_d[((i-1) * 2) + 1] = 1\n"
   ]
  },
  {
   "cell_type": "code",
   "execution_count": 54,
   "id": "6355d7b8",
   "metadata": {},
   "outputs": [],
   "source": [
    "X_train_d = X_train_d.reshape((800, 32*32*6))\n",
    "Y_train_d = Y_train_d.reshape(800,)\n",
    "\n",
    "X_vali_d = X_vali_d.reshape((800, 32*32*6))\n",
    "Y_vali_d = Y_vali_d.reshape(800, )\n",
    "\n",
    "X_test_d = X_test_d.reshape((800, 32*32*6))\n",
    "Y_test_d = Y_test_d.reshape(800, )"
   ]
  },
  {
   "cell_type": "code",
   "execution_count": 55,
   "id": "f7438f87",
   "metadata": {},
   "outputs": [],
   "source": [
    "X_train_f = np.vstack((X_train_d, X_vali_d))\n",
    "Y_train_f = np.vstack((Y_train_d, Y_vali_d))"
   ]
  },
  {
   "cell_type": "code",
   "execution_count": 48,
   "id": "4e8a80d8",
   "metadata": {},
   "outputs": [
    {
     "ename": "ValueError",
     "evalue": "Found array with dim 4. Estimator expected <= 2.",
     "output_type": "error",
     "traceback": [
      "\u001b[1;31m---------------------------------------------------------------------------\u001b[0m",
      "\u001b[1;31mValueError\u001b[0m                                Traceback (most recent call last)",
      "\u001b[1;32m<ipython-input-48-834a817acf0c>\u001b[0m in \u001b[0;36m<module>\u001b[1;34m\u001b[0m\n\u001b[0;32m      1\u001b[0m \u001b[0mclf\u001b[0m \u001b[1;33m=\u001b[0m \u001b[0mtree\u001b[0m\u001b[1;33m.\u001b[0m\u001b[0mDecisionTreeClassifier\u001b[0m\u001b[1;33m(\u001b[0m\u001b[0mcriterion\u001b[0m\u001b[1;33m=\u001b[0m\u001b[1;34m\"entropy\"\u001b[0m\u001b[1;33m)\u001b[0m\u001b[1;33m\u001b[0m\u001b[1;33m\u001b[0m\u001b[0m\n\u001b[0;32m      2\u001b[0m \u001b[0mclf\u001b[0m \u001b[1;33m=\u001b[0m \u001b[0mclf\u001b[0m\u001b[1;33m.\u001b[0m\u001b[0mfit\u001b[0m\u001b[1;33m(\u001b[0m\u001b[0mX_train_f\u001b[0m\u001b[1;33m,\u001b[0m \u001b[0mY_train_f\u001b[0m\u001b[1;33m.\u001b[0m\u001b[0mreshape\u001b[0m\u001b[1;33m(\u001b[0m\u001b[1;36m1600\u001b[0m\u001b[1;33m,\u001b[0m\u001b[1;33m)\u001b[0m\u001b[1;33m)\u001b[0m\u001b[1;33m\u001b[0m\u001b[1;33m\u001b[0m\u001b[0m\n\u001b[1;32m----> 3\u001b[1;33m \u001b[0mprint\u001b[0m\u001b[1;33m(\u001b[0m\u001b[1;34m\"Accuracy on training set: {:.2f}\"\u001b[0m\u001b[1;33m.\u001b[0m\u001b[0mformat\u001b[0m\u001b[1;33m(\u001b[0m\u001b[0mclf\u001b[0m\u001b[1;33m.\u001b[0m\u001b[0mscore\u001b[0m\u001b[1;33m(\u001b[0m\u001b[0mX_test_d\u001b[0m\u001b[1;33m,\u001b[0m \u001b[0mY_test_d\u001b[0m\u001b[1;33m)\u001b[0m\u001b[1;33m)\u001b[0m\u001b[1;33m)\u001b[0m\u001b[1;33m\u001b[0m\u001b[1;33m\u001b[0m\u001b[0m\n\u001b[0m",
      "\u001b[1;32mc:\\users\\zawad\\miniforge3\\envs\\tf_2.4\\lib\\site-packages\\sklearn\\base.py\u001b[0m in \u001b[0;36mscore\u001b[1;34m(self, X, y, sample_weight)\u001b[0m\n\u001b[0;32m    498\u001b[0m         \"\"\"\n\u001b[0;32m    499\u001b[0m         \u001b[1;32mfrom\u001b[0m \u001b[1;33m.\u001b[0m\u001b[0mmetrics\u001b[0m \u001b[1;32mimport\u001b[0m \u001b[0maccuracy_score\u001b[0m\u001b[1;33m\u001b[0m\u001b[1;33m\u001b[0m\u001b[0m\n\u001b[1;32m--> 500\u001b[1;33m         \u001b[1;32mreturn\u001b[0m \u001b[0maccuracy_score\u001b[0m\u001b[1;33m(\u001b[0m\u001b[0my\u001b[0m\u001b[1;33m,\u001b[0m \u001b[0mself\u001b[0m\u001b[1;33m.\u001b[0m\u001b[0mpredict\u001b[0m\u001b[1;33m(\u001b[0m\u001b[0mX\u001b[0m\u001b[1;33m)\u001b[0m\u001b[1;33m,\u001b[0m \u001b[0msample_weight\u001b[0m\u001b[1;33m=\u001b[0m\u001b[0msample_weight\u001b[0m\u001b[1;33m)\u001b[0m\u001b[1;33m\u001b[0m\u001b[1;33m\u001b[0m\u001b[0m\n\u001b[0m\u001b[0;32m    501\u001b[0m \u001b[1;33m\u001b[0m\u001b[0m\n\u001b[0;32m    502\u001b[0m     \u001b[1;32mdef\u001b[0m \u001b[0m_more_tags\u001b[0m\u001b[1;33m(\u001b[0m\u001b[0mself\u001b[0m\u001b[1;33m)\u001b[0m\u001b[1;33m:\u001b[0m\u001b[1;33m\u001b[0m\u001b[1;33m\u001b[0m\u001b[0m\n",
      "\u001b[1;32mc:\\users\\zawad\\miniforge3\\envs\\tf_2.4\\lib\\site-packages\\sklearn\\tree\\_classes.py\u001b[0m in \u001b[0;36mpredict\u001b[1;34m(self, X, check_input)\u001b[0m\n\u001b[0;32m    435\u001b[0m         \"\"\"\n\u001b[0;32m    436\u001b[0m         \u001b[0mcheck_is_fitted\u001b[0m\u001b[1;33m(\u001b[0m\u001b[0mself\u001b[0m\u001b[1;33m)\u001b[0m\u001b[1;33m\u001b[0m\u001b[1;33m\u001b[0m\u001b[0m\n\u001b[1;32m--> 437\u001b[1;33m         \u001b[0mX\u001b[0m \u001b[1;33m=\u001b[0m \u001b[0mself\u001b[0m\u001b[1;33m.\u001b[0m\u001b[0m_validate_X_predict\u001b[0m\u001b[1;33m(\u001b[0m\u001b[0mX\u001b[0m\u001b[1;33m,\u001b[0m \u001b[0mcheck_input\u001b[0m\u001b[1;33m)\u001b[0m\u001b[1;33m\u001b[0m\u001b[1;33m\u001b[0m\u001b[0m\n\u001b[0m\u001b[0;32m    438\u001b[0m         \u001b[0mproba\u001b[0m \u001b[1;33m=\u001b[0m \u001b[0mself\u001b[0m\u001b[1;33m.\u001b[0m\u001b[0mtree_\u001b[0m\u001b[1;33m.\u001b[0m\u001b[0mpredict\u001b[0m\u001b[1;33m(\u001b[0m\u001b[0mX\u001b[0m\u001b[1;33m)\u001b[0m\u001b[1;33m\u001b[0m\u001b[1;33m\u001b[0m\u001b[0m\n\u001b[0;32m    439\u001b[0m         \u001b[0mn_samples\u001b[0m \u001b[1;33m=\u001b[0m \u001b[0mX\u001b[0m\u001b[1;33m.\u001b[0m\u001b[0mshape\u001b[0m\u001b[1;33m[\u001b[0m\u001b[1;36m0\u001b[0m\u001b[1;33m]\u001b[0m\u001b[1;33m\u001b[0m\u001b[1;33m\u001b[0m\u001b[0m\n",
      "\u001b[1;32mc:\\users\\zawad\\miniforge3\\envs\\tf_2.4\\lib\\site-packages\\sklearn\\tree\\_classes.py\u001b[0m in \u001b[0;36m_validate_X_predict\u001b[1;34m(self, X, check_input)\u001b[0m\n\u001b[0;32m    400\u001b[0m         \u001b[1;34m\"\"\"Validate the training data on predict (probabilities).\"\"\"\u001b[0m\u001b[1;33m\u001b[0m\u001b[1;33m\u001b[0m\u001b[0m\n\u001b[0;32m    401\u001b[0m         \u001b[1;32mif\u001b[0m \u001b[0mcheck_input\u001b[0m\u001b[1;33m:\u001b[0m\u001b[1;33m\u001b[0m\u001b[1;33m\u001b[0m\u001b[0m\n\u001b[1;32m--> 402\u001b[1;33m             X = self._validate_data(X, dtype=DTYPE, accept_sparse=\"csr\",\n\u001b[0m\u001b[0;32m    403\u001b[0m                                     reset=False)\n\u001b[0;32m    404\u001b[0m             if issparse(X) and (X.indices.dtype != np.intc or\n",
      "\u001b[1;32mc:\\users\\zawad\\miniforge3\\envs\\tf_2.4\\lib\\site-packages\\sklearn\\base.py\u001b[0m in \u001b[0;36m_validate_data\u001b[1;34m(self, X, y, reset, validate_separately, **check_params)\u001b[0m\n\u001b[0;32m    419\u001b[0m             \u001b[0mout\u001b[0m \u001b[1;33m=\u001b[0m \u001b[0mX\u001b[0m\u001b[1;33m\u001b[0m\u001b[1;33m\u001b[0m\u001b[0m\n\u001b[0;32m    420\u001b[0m         \u001b[1;32melif\u001b[0m \u001b[0misinstance\u001b[0m\u001b[1;33m(\u001b[0m\u001b[0my\u001b[0m\u001b[1;33m,\u001b[0m \u001b[0mstr\u001b[0m\u001b[1;33m)\u001b[0m \u001b[1;32mand\u001b[0m \u001b[0my\u001b[0m \u001b[1;33m==\u001b[0m \u001b[1;34m'no_validation'\u001b[0m\u001b[1;33m:\u001b[0m\u001b[1;33m\u001b[0m\u001b[1;33m\u001b[0m\u001b[0m\n\u001b[1;32m--> 421\u001b[1;33m             \u001b[0mX\u001b[0m \u001b[1;33m=\u001b[0m \u001b[0mcheck_array\u001b[0m\u001b[1;33m(\u001b[0m\u001b[0mX\u001b[0m\u001b[1;33m,\u001b[0m \u001b[1;33m**\u001b[0m\u001b[0mcheck_params\u001b[0m\u001b[1;33m)\u001b[0m\u001b[1;33m\u001b[0m\u001b[1;33m\u001b[0m\u001b[0m\n\u001b[0m\u001b[0;32m    422\u001b[0m             \u001b[0mout\u001b[0m \u001b[1;33m=\u001b[0m \u001b[0mX\u001b[0m\u001b[1;33m\u001b[0m\u001b[1;33m\u001b[0m\u001b[0m\n\u001b[0;32m    423\u001b[0m         \u001b[1;32melse\u001b[0m\u001b[1;33m:\u001b[0m\u001b[1;33m\u001b[0m\u001b[1;33m\u001b[0m\u001b[0m\n",
      "\u001b[1;32mc:\\users\\zawad\\miniforge3\\envs\\tf_2.4\\lib\\site-packages\\sklearn\\utils\\validation.py\u001b[0m in \u001b[0;36minner_f\u001b[1;34m(*args, **kwargs)\u001b[0m\n\u001b[0;32m     61\u001b[0m             \u001b[0mextra_args\u001b[0m \u001b[1;33m=\u001b[0m \u001b[0mlen\u001b[0m\u001b[1;33m(\u001b[0m\u001b[0margs\u001b[0m\u001b[1;33m)\u001b[0m \u001b[1;33m-\u001b[0m \u001b[0mlen\u001b[0m\u001b[1;33m(\u001b[0m\u001b[0mall_args\u001b[0m\u001b[1;33m)\u001b[0m\u001b[1;33m\u001b[0m\u001b[1;33m\u001b[0m\u001b[0m\n\u001b[0;32m     62\u001b[0m             \u001b[1;32mif\u001b[0m \u001b[0mextra_args\u001b[0m \u001b[1;33m<=\u001b[0m \u001b[1;36m0\u001b[0m\u001b[1;33m:\u001b[0m\u001b[1;33m\u001b[0m\u001b[1;33m\u001b[0m\u001b[0m\n\u001b[1;32m---> 63\u001b[1;33m                 \u001b[1;32mreturn\u001b[0m \u001b[0mf\u001b[0m\u001b[1;33m(\u001b[0m\u001b[1;33m*\u001b[0m\u001b[0margs\u001b[0m\u001b[1;33m,\u001b[0m \u001b[1;33m**\u001b[0m\u001b[0mkwargs\u001b[0m\u001b[1;33m)\u001b[0m\u001b[1;33m\u001b[0m\u001b[1;33m\u001b[0m\u001b[0m\n\u001b[0m\u001b[0;32m     64\u001b[0m \u001b[1;33m\u001b[0m\u001b[0m\n\u001b[0;32m     65\u001b[0m             \u001b[1;31m# extra_args > 0\u001b[0m\u001b[1;33m\u001b[0m\u001b[1;33m\u001b[0m\u001b[1;33m\u001b[0m\u001b[0m\n",
      "\u001b[1;32mc:\\users\\zawad\\miniforge3\\envs\\tf_2.4\\lib\\site-packages\\sklearn\\utils\\validation.py\u001b[0m in \u001b[0;36mcheck_array\u001b[1;34m(array, accept_sparse, accept_large_sparse, dtype, order, copy, force_all_finite, ensure_2d, allow_nd, ensure_min_samples, ensure_min_features, estimator)\u001b[0m\n\u001b[0;32m    657\u001b[0m                     \"into decimal numbers with dtype='numeric'\") from e\n\u001b[0;32m    658\u001b[0m         \u001b[1;32mif\u001b[0m \u001b[1;32mnot\u001b[0m \u001b[0mallow_nd\u001b[0m \u001b[1;32mand\u001b[0m \u001b[0marray\u001b[0m\u001b[1;33m.\u001b[0m\u001b[0mndim\u001b[0m \u001b[1;33m>=\u001b[0m \u001b[1;36m3\u001b[0m\u001b[1;33m:\u001b[0m\u001b[1;33m\u001b[0m\u001b[1;33m\u001b[0m\u001b[0m\n\u001b[1;32m--> 659\u001b[1;33m             raise ValueError(\"Found array with dim %d. %s expected <= 2.\"\n\u001b[0m\u001b[0;32m    660\u001b[0m                              % (array.ndim, estimator_name))\n\u001b[0;32m    661\u001b[0m \u001b[1;33m\u001b[0m\u001b[0m\n",
      "\u001b[1;31mValueError\u001b[0m: Found array with dim 4. Estimator expected <= 2."
     ]
    }
   ],
   "source": [
    "clf = tree.DecisionTreeClassifier(criterion=\"entropy\")\n",
    "clf = clf.fit(X_train_f, Y_train_f.reshape(1600,))\n",
    "print(\"Accuracy: {:.2f}\".format(clf.score(X_test_d, Y_test_d)))"
   ]
  },
  {
   "cell_type": "code",
   "execution_count": 18,
   "id": "1a02caf3",
   "metadata": {},
   "outputs": [
    {
     "name": "stdout",
     "output_type": "stream",
     "text": [
      "Accuracy on training set: 0.71\n"
     ]
    },
    {
     "data": {
      "text/plain": [
       "['Vanilla_Decision_Tree.joblib']"
      ]
     },
     "execution_count": 18,
     "metadata": {},
     "output_type": "execute_result"
    }
   ],
   "source": [
    "print(\"Accuracy on training set: {:.2f}\".format(clf.score(X_test_d, Y_test_d)))\n",
    "dump(clf, 'Vanilla_Decision_Tree.joblib') "
   ]
  },
  {
   "cell_type": "code",
   "execution_count": 26,
   "id": "74df89af",
   "metadata": {},
   "outputs": [
    {
     "name": "stdout",
     "output_type": "stream",
     "text": [
      "Tree of depth 1\n",
      "Tree of depth 2\n",
      "Tree of depth 3\n",
      "Tree of depth 4\n",
      "Tree of depth 5\n",
      "Tree of depth 6\n",
      "Tree of depth 7\n",
      "Tree of depth 8\n",
      "Tree of depth 9\n",
      "Tree of depth 10\n",
      "Tree of depth 11\n",
      "Tree of depth 12\n",
      "Tree of depth 13\n",
      "Tree of depth 14\n",
      "Tree of depth 15\n",
      "Tree of depth 16\n"
     ]
    },
    {
     "data": {
      "image/png": "[encoded data removed]",
      "text/plain": [
       "<Figure size 432x288 with 1 Axes>"
      ]
     },
     "metadata": {
      "needs_background": "light"
     },
     "output_type": "display_data"
    }
   ],
   "source": [
    "x_axis = []\n",
    "training_acc = []\n",
    "test_acc = []\n",
    "\n",
    "for depth in range(1,17):\n",
    "    clf = tree.DecisionTreeClassifier(criterion=\"entropy\", max_depth=depth)\n",
    "    clf = clf.fit(X_train_f, Y_train_f.reshape(1600,))\n",
    "\n",
    "    training_acc.append(clf.score(X_train_f, Y_train_f.reshape(1600,)))\n",
    "    test_acc.append(clf.score(X_test_d, Y_test_d))\n",
    "    x_axis.append(depth)\n",
    "    print(f'Tree of depth {depth}')\n",
    "            \n",
    "plt.title(f'Learning decision tree on a range of depths')\n",
    "plt.xlabel('Depth')\n",
    "plt.ylabel('Accuracy')\n",
    "plt.plot(x_axis, training_acc)\n",
    "plt.plot(x_axis, test_acc)\n",
    "plt.legend([\"Training Accuracy\", \"Test Accuracy\"])\n",
    "\n",
    "plt.show()\n"
   ]
  },
  {
   "cell_type": "code",
   "execution_count": 37,
   "id": "3f3c4986",
   "metadata": {},
   "outputs": [
    {
     "name": "stderr",
     "output_type": "stream",
     "text": [
      "No handles with labels found to put in legend.\n"
     ]
    },
    {
     "name": "stdout",
     "output_type": "stream",
     "text": [
      "[[282 118]\n",
      " [101 299]]\n",
      "0.7170263788968825\n",
      "0.7475\n",
      "0.7319461444308445\n",
      "[0.     0.7475 1.    ]\n",
      "[0.    0.295 1.   ]\n"
     ]
    },
    {
     "data": {
      "text/plain": [
       "<matplotlib.legend.Legend at 0x1eb1f890b80>"
      ]
     },
     "execution_count": 37,
     "metadata": {},
     "output_type": "execute_result"
    },
    {
     "data": {
      "image/png": "[encoded data removed]",
      "text/plain": [
       "<Figure size 432x288 with 1 Axes>"
      ]
     },
     "metadata": {
      "needs_background": "light"
     },
     "output_type": "display_data"
    }
   ],
   "source": [
    "Y_pred_d = clf.predict(X_test_d)\n",
    "\n",
    "# Confusion Matrix\n",
    "cm = confusion_matrix(Y_test_d, Y_pred_d)\n",
    "print(cm)\n",
    "\n",
    "# Precision\n",
    "pr = precision_score(Y_test_d, Y_pred_d)\n",
    "print(pr)\n",
    "\n",
    "# Recall\n",
    "pr = recall_score(Y_test_d, Y_pred_d)\n",
    "print(pr)\n",
    "\n",
    "# F1 Score \n",
    "f1 = f1_score(Y_test_d, Y_pred_d)\n",
    "print(f1)\n",
    "\n",
    "fpr, tpr, thresholds= roc_curve(Y_test_d, Y_pred_d)\n",
    "print(tpr)\n",
    "print(fpr)\n",
    "\n",
    "plt.plot(fpr, tpr)\n",
    "plt.xlabel('False positive rate')\n",
    "plt.ylabel('True positive rate')\n",
    "plt.title('ROC curve')\n",
    "plt.legend(loc='best')"
   ]
  },
  {
   "cell_type": "code",
   "execution_count": 58,
   "id": "f27b27f7",
   "metadata": {},
   "outputs": [
    {
     "data": {
      "image/png": "[encoded data removed]",
      "text/plain": [
       "<Figure size 432x288 with 1 Axes>"
      ]
     },
     "metadata": {
      "needs_background": "light"
     },
     "output_type": "display_data"
    }
   ],
   "source": [
    "path = clf.cost_complexity_pruning_path(X_train_f, Y_train_f.reshape(1600,))\n",
    "ccp_alphas, impurities = path.ccp_alphas, path.impurities\n",
    "\n",
    "ccp_alphas = ccp_alphas[8:16]\n",
    "clfs = []\n",
    "for ccp_alpha in ccp_alphas:\n",
    "    clf = tree.DecisionTreeClassifier(ccp_alpha=ccp_alpha, criterion=\"entropy\")\n",
    "    clf.fit(X_train_f, Y_train_f.reshape(1600,))\n",
    "    clfs.append(clf)\n",
    "    \n",
    "train_scores = [clf.score(X_train_f, Y_train_f.reshape(1600,)) for clf in clfs]\n",
    "test_scores = [clf.score(X_test_d, Y_test_d) for clf in clfs]\n",
    "fig, ax = plt.subplots()\n",
    "ax.set_xlabel(\"alpha\")\n",
    "ax.set_ylabel(\"accuracy\")\n",
    "ax.set_title(\"Accuracy vs alpha for training and testing sets\")\n",
    "ax.plot(ccp_alphas, train_scores, marker='o', label=\"train\",\n",
    "        drawstyle=\"steps-post\")\n",
    "ax.plot(ccp_alphas, test_scores, marker='o', label=\"test\",\n",
    "        drawstyle=\"steps-post\")\n",
    "ax.legend()\n",
    "plt.show()"
   ]
  },
  {
   "cell_type": "markdown",
   "id": "83e9245a",
   "metadata": {},
   "source": [
    "PCA DT"
   ]
  },
  {
   "cell_type": "code",
   "execution_count": 38,
   "id": "ad9d4969",
   "metadata": {},
   "outputs": [
    {
     "name": "stdout",
     "output_type": "stream",
     "text": [
      "(1600, 474)\n",
      "Accuracy on training set: 0.63\n"
     ]
    }
   ],
   "source": [
    "pca = PCA(0.99)\n",
    "pca.fit(X_train_f)\n",
    "\n",
    "X_train_PCA = pca.transform(X_train_f)\n",
    "X_test_PCA = pca.transform(X_test_d)\n",
    "print(X_train_PCA.shape)\n",
    "\n",
    "clf = tree.DecisionTreeClassifier(criterion=\"entropy\")\n",
    "clf = clf.fit(X_train_PCA, Y_train_f.reshape(1600,))\n",
    "print(\"Accuracy on training set: {:.2f}\".format(clf.score(X_test_PCA, Y_test_d)))"
   ]
  },
  {
   "cell_type": "markdown",
   "id": "d21c84d6",
   "metadata": {},
   "source": [
    "Random Forest"
   ]
  },
  {
   "cell_type": "code",
   "execution_count": 69,
   "id": "ab77768e",
   "metadata": {},
   "outputs": [
    {
     "name": "stdout",
     "output_type": "stream",
     "text": [
      "0.84\n"
     ]
    }
   ],
   "source": [
    "clf = RandomForestClassifier(max_depth=16, criterion='entropy', random_state=0)\n",
    "clf.fit(X_train_f, Y_train_f.reshape(1600,))\n",
    "print(clf.score(X_test_d, Y_test_d))"
   ]
  },
  {
   "cell_type": "code",
   "execution_count": 70,
   "id": "40dc5e35",
   "metadata": {},
   "outputs": [
    {
     "data": {
      "text/plain": [
       "['Random_Forest.joblib']"
      ]
     },
     "execution_count": 70,
     "metadata": {},
     "output_type": "execute_result"
    }
   ],
   "source": [
    "dump(clf, 'Random_Forest.joblib') "
   ]
  },
  {
   "cell_type": "code",
   "execution_count": 65,
   "id": "10ae071b",
   "metadata": {},
   "outputs": [
    {
     "name": "stderr",
     "output_type": "stream",
     "text": [
      "No handles with labels found to put in legend.\n"
     ]
    },
    {
     "name": "stdout",
     "output_type": "stream",
     "text": [
      "[[325  75]\n",
      " [ 53 347]]\n",
      "0.8222748815165877\n",
      "0.8675\n",
      "0.8442822384428225\n",
      "[0.     0.8675 1.    ]\n",
      "[0.     0.1875 1.    ]\n"
     ]
    },
    {
     "data": {
      "text/plain": [
       "<matplotlib.legend.Legend at 0x1ec6605fee0>"
      ]
     },
     "execution_count": 65,
     "metadata": {},
     "output_type": "execute_result"
    },
    {
     "data": {
      "image/png": "[encoded data removed]",
      "text/plain": [
       "<Figure size 432x288 with 1 Axes>"
      ]
     },
     "metadata": {
      "needs_background": "light"
     },
     "output_type": "display_data"
    }
   ],
   "source": [
    "Y_pred_d = clf.predict(X_test_d)\n",
    "\n",
    "# Confusion Matrix\n",
    "cm = confusion_matrix(Y_test_d, Y_pred_d)\n",
    "print(cm)\n",
    "\n",
    "# Precision\n",
    "pr = precision_score(Y_test_d, Y_pred_d)\n",
    "print(pr)\n",
    "\n",
    "# Recall\n",
    "pr = recall_score(Y_test_d, Y_pred_d)\n",
    "print(pr)\n",
    "\n",
    "# F1 Score \n",
    "f1 = f1_score(Y_test_d, Y_pred_d)\n",
    "print(f1)\n",
    "\n",
    "fpr, tpr, thresholds= roc_curve(Y_test_d, Y_pred_d)\n",
    "print(tpr)\n",
    "print(fpr)\n",
    "\n",
    "plt.plot(fpr, tpr)\n",
    "plt.xlabel('False positive rate')\n",
    "plt.ylabel('True positive rate')\n",
    "plt.title('ROC curve')\n",
    "plt.legend(loc='best')"
   ]
  },
  {
   "cell_type": "code",
   "execution_count": 68,
   "id": "275e4b7a",
   "metadata": {},
   "outputs": [
    {
     "name": "stdout",
     "output_type": "stream",
     "text": [
      "Random Forest of depth 1\n",
      "Random Forest of depth 2\n",
      "Random Forest of depth 3\n",
      "Random Forest of depth 4\n",
      "Random Forest of depth 5\n",
      "Random Forest of depth 6\n",
      "Random Forest of depth 7\n",
      "Random Forest of depth 8\n",
      "Random Forest of depth 9\n",
      "Random Forest of depth 10\n",
      "Random Forest of depth 11\n",
      "Random Forest of depth 12\n",
      "Random Forest of depth 13\n",
      "Random Forest of depth 14\n",
      "Random Forest of depth 15\n",
      "Random Forest of depth 16\n"
     ]
    },
    {
     "data": {
      "image/png": "[encoded data removed]",
      "text/plain": [
       "<Figure size 432x288 with 1 Axes>"
      ]
     },
     "metadata": {
      "needs_background": "light"
     },
     "output_type": "display_data"
    }
   ],
   "source": [
    "x_axis = []\n",
    "training_acc = []\n",
    "test_acc = []\n",
    "\n",
    "for depth in range(1,17):\n",
    "    clf = RandomForestClassifier(max_depth=depth, criterion='entropy', random_state=0)\n",
    "    clf.fit(X_train_f, Y_train_f.reshape(1600,))\n",
    "\n",
    "    training_acc.append(clf.score(X_train_f, Y_train_f.reshape(1600,)))\n",
    "    test_acc.append(clf.score(X_test_d, Y_test_d))\n",
    "    x_axis.append(depth)\n",
    "    print(f'Random Forest of depth {depth}')\n",
    "            \n",
    "plt.title(f'Learning random forest on a range of depths')\n",
    "plt.xlabel('Depth')\n",
    "plt.ylabel('Accuracy')\n",
    "plt.plot(x_axis, training_acc)\n",
    "plt.plot(x_axis, test_acc)\n",
    "plt.legend([\"Training Accuracy\", \"Test Accuracy\"])\n",
    "\n",
    "plt.show()"
   ]
  },
  {
   "cell_type": "code",
   "execution_count": null,
   "id": "5be5b208",
   "metadata": {},
   "outputs": [],
   "source": []
  }
 ],
 "metadata": {
  "kernelspec": {
   "display_name": "Python 3",
   "language": "python",
   "name": "python3"
  },
  "language_info": {
   "codemirror_mode": {
    "name": "ipython",
    "version": 3
   },
   "file_extension": ".py",
   "mimetype": "text/x-python",
   "name": "python",
   "nbconvert_exporter": "python",
   "pygments_lexer": "ipython3",
   "version": "3.8.0"
  }
 },
 "nbformat": 4,
 "nbformat_minor": 5
}
